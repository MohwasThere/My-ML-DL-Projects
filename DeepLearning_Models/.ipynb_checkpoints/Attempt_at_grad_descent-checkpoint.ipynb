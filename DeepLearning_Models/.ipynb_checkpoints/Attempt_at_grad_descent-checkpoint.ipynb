{
 "cells": [
  {
   "cell_type": "code",
   "execution_count": 1,
   "id": "53dac33a-a37f-4859-9f4f-f1b55b8be58d",
   "metadata": {},
   "outputs": [],
   "source": [
    "import numpy as np"
   ]
  },
  {
   "cell_type": "code",
   "execution_count": 2,
   "id": "8e543651-19a8-4281-ae9d-5f7fd04dd34d",
   "metadata": {},
   "outputs": [],
   "source": [
    "def sigmoid(x):\n",
    "    return 1/(1+np.exp(-x))"
   ]
  },
  {
   "cell_type": "code",
   "execution_count": 3,
   "id": "289d0c7e-aee2-4f23-a211-46d3969c8ed0",
   "metadata": {},
   "outputs": [],
   "source": [
    "def reLU(x):\n",
    "    return max(0,x)"
   ]
  },
  {
   "cell_type": "code",
   "execution_count": 6,
   "id": "6b866fb6-6f2f-4219-9eef-a92bc1b73621",
   "metadata": {},
   "outputs": [],
   "source": [
    "def load_mnist_images(filename):\n",
    "    with open(filename, 'rb') as f:\n",
    "        # Read magic number and dimensions\n",
    "        _ = int.from_bytes(f.read(4), 'big')  # Magic number\n",
    "        num_images = int.from_bytes(f.read(4), 'big')  # Number of images\n",
    "        rows = int.from_bytes(f.read(4), 'big')  # Rows\n",
    "        cols = int.from_bytes(f.read(4), 'big')  # Columns\n",
    "        # Read the image data\n",
    "        data = np.frombuffer(f.read(), dtype=np.uint8).reshape(num_images, rows, cols)\n",
    "        return data\n",
    "\n",
    "def load_mnist_labels(filename):\n",
    "    with open(filename, 'rb') as f:\n",
    "        # Read magic number and number of labels\n",
    "        _ = int.from_bytes(f.read(4), 'big')  # Magic number\n",
    "        num_labels = int.from_bytes(f.read(4), 'big')  # Number of labels\n",
    "        # Read the label data\n",
    "        labels = np.frombuffer(f.read(), dtype=np.uint8)\n",
    "        return labels"
   ]
  },
  {
   "cell_type": "code",
   "execution_count": 21,
   "id": "48f5b7e1-3300-4764-a75b-b522d75f9341",
   "metadata": {},
   "outputs": [],
   "source": [
    "train_images_path = \"/Volumes/Mohs's_SSD/Machine Learning Models/MNIST/train-images-idx3-ubyte/train-images-idx3-ubyte\"\n",
    "train_labels_path = \"/Volumes/Mohs's_SSD/Machine Learning Models/MNIST/train-labels-idx1-ubyte/train-labels-idx1-ubyte\"\n",
    "test_images_path = \"/Volumes/Mohs's_SSD/Machine Learning Models/MNIST/t10k-images-idx3-ubyte/t10k-images-idx3-ubyte\"\n",
    "test_labels_path = \"/Volumes/Mohs's_SSD/Machine Learning Models/MNIST/t10k-labels-idx1-ubyte/t10k-labels-idx1-ubyte\""
   ]
  },
  {
   "cell_type": "code",
   "execution_count": 27,
   "id": "431bced0-e50e-4ae6-a875-d674552324fb",
   "metadata": {},
   "outputs": [],
   "source": [
    "x_train = load_mnist_images(train_images_path)\n",
    "y_train = load_mnist_labels(train_labels_path)\n",
    "x_test = load_mnist_images(test_images_path)\n",
    "y_test = load_mnist_labels(test_labels_path)"
   ]
  },
  {
   "cell_type": "code",
   "execution_count": 29,
   "id": "7f5d3757-7d92-4388-b36b-24d5ace19102",
   "metadata": {},
   "outputs": [],
   "source": [
    "x_train = x_train / 255.0\n",
    "x_test = x_test / 255.0"
   ]
  },
  {
   "cell_type": "code",
   "execution_count": 31,
   "id": "b9e1a3d5-2b42-4f80-9587-1602f09bf028",
   "metadata": {},
   "outputs": [],
   "source": [
    "def binary_cross_entropy(y_true, y_pred):\n",
    "    bce = -np.mean(y_true * np.log(y_pred) + (1 - y_true) * np.log(1 - y_pred))\n",
    "    return bce"
   ]
  },
  {
   "cell_type": "code",
   "execution_count": null,
   "id": "babd74e1-6f2e-4fb1-bac2-f2751aad5d13",
   "metadata": {},
   "outputs": [],
   "source": []
  }
 ],
 "metadata": {
  "kernelspec": {
   "display_name": "Python 3 (ipykernel)",
   "language": "python",
   "name": "python3"
  },
  "language_info": {
   "codemirror_mode": {
    "name": "ipython",
    "version": 3
   },
   "file_extension": ".py",
   "mimetype": "text/x-python",
   "name": "python",
   "nbconvert_exporter": "python",
   "pygments_lexer": "ipython3",
   "version": "3.8.19"
  }
 },
 "nbformat": 4,
 "nbformat_minor": 5
}
