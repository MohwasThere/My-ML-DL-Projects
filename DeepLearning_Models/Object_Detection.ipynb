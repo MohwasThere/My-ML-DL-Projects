{
 "cells": [
  {
   "cell_type": "code",
   "execution_count": 1,
   "id": "b489b40d-a818-4522-b2f1-8e30c696b6ac",
   "metadata": {},
   "outputs": [],
   "source": [
    "import cv2 #OpenCV\n",
    "import uuid #unique Identifier\n",
    "import os\n",
    "import time"
   ]
  },
  {
   "cell_type": "code",
   "execution_count": 2,
   "id": "325d6f58-ff85-4953-867a-237a5f231010",
   "metadata": {},
   "outputs": [],
   "source": [
    "labels = ['ThumbsUp', 'ThumbsDown','ThankYou','LiveLong']\n",
    "number_imgs = 5"
   ]
  },
  {
   "cell_type": "code",
   "execution_count": 3,
   "id": "13e7b826-a56a-4c0b-986e-2c132f126194",
   "metadata": {},
   "outputs": [],
   "source": [
    "IMAGE_PATH = os.path.join('Datasets', 'Images_OD')"
   ]
  },
  {
   "cell_type": "code",
   "execution_count": 4,
   "id": "e1b3fa6e-9655-4afe-b3ea-9f971a909a77",
   "metadata": {},
   "outputs": [
    {
     "name": "stdout",
     "output_type": "stream",
     "text": [
      "Datasets/Images_OD\n"
     ]
    }
   ],
   "source": [
    "print(IMAGE_PATH)"
   ]
  },
  {
   "cell_type": "code",
   "execution_count": 5,
   "id": "c824417b-f97b-4a95-a119-693a22debb22",
   "metadata": {},
   "outputs": [],
   "source": [
    "if not os.path.exists(IMAGE_PATH):\n",
    "    !mkdir -p {IMAGE_PATH}\n",
    "for label in labels:\n",
    "    path = os.path.join(IMAGE_PATH, label)\n",
    "    if not os.path.exists(path):\n",
    "        !mkdir {path}"
   ]
  },
  {
   "cell_type": "code",
   "execution_count": 6,
   "id": "ae649b4a-bd61-42b8-9217-a2c7481828c0",
   "metadata": {},
   "outputs": [
    {
     "name": "stdout",
     "output_type": "stream",
     "text": [
      "Collecting Images for thumbsup\n",
      "Collecting image 0\n",
      "Collecting image 1\n",
      "Collecting image 2\n",
      "Collecting image 3\n"
     ]
    },
    {
     "name": "stderr",
     "output_type": "stream",
     "text": [
      "2025-02-26 21:01:40.786 python[67197:1475915] +[IMKClient subclass]: chose IMKClient_Modern\n",
      "2025-02-26 21:01:40.786 python[67197:1475915] +[IMKInputSession subclass]: chose IMKInputSession_Modern\n"
     ]
    },
    {
     "name": "stdout",
     "output_type": "stream",
     "text": [
      "Collecting image 4\n",
      "Collecting Images for thumbsdown\n",
      "Collecting image 0\n",
      "Collecting image 1\n",
      "Collecting image 2\n",
      "Collecting image 3\n",
      "Collecting image 4\n",
      "Collecting Images for thankyou\n",
      "Collecting image 0\n",
      "Collecting image 1\n",
      "Collecting image 2\n",
      "Collecting image 3\n",
      "Collecting image 4\n",
      "Collecting Images for livelong\n",
      "Collecting image 0\n",
      "Collecting image 1\n",
      "Collecting image 2\n",
      "Collecting image 3\n",
      "Collecting image 4\n"
     ]
    }
   ],
   "source": [
    "for label in labels:\n",
    "    cap = cv2.VideoCapture(0)\n",
    "    print('Collecting Images for {}'.format(label))\n",
    "    time.sleep(5)\n",
    "    for imgnum in range(number_imgs):\n",
    "        print('Collecting image {}'.format(imgnum))\n",
    "        ret, frame = cap.read()\n",
    "        imgname = os.path.join(IMAGE_PATH, label, label + '.' + '{}.jpg'.format(str(uuid.uuid1())))\n",
    "        cv2.imwrite(imgname, frame)\n",
    "        cv2.imshow('frame', frame)\n",
    "        time.sleep(2)\n",
    "\n",
    "        if cv2.waitKey(1) &0xFF == ord('q'):\n",
    "            break\n",
    "\n",
    "cap.release()\n",
    "cv2.destroyAllWindows()"
   ]
  },
  {
   "cell_type": "code",
   "execution_count": 22,
   "id": "30a7558d-8d00-4399-8689-ecb33eaf49df",
   "metadata": {},
   "outputs": [
    {
     "data": {
      "text/plain": [
       "-1"
      ]
     },
     "execution_count": 22,
     "metadata": {},
     "output_type": "execute_result"
    }
   ],
   "source": [
    "cv2.destroyAllWindows(); cv2.waitKey(1)"
   ]
  },
  {
   "cell_type": "code",
   "execution_count": 16,
   "id": "b2758472-74bb-4cbd-98f0-00c956fbc500",
   "metadata": {},
   "outputs": [],
   "source": [
    "LABELING_PATH = os.path.join('Datasets', 'Images_OD', 'Labeled_Images')"
   ]
  },
  {
   "cell_type": "code",
   "execution_count": 17,
   "id": "d940a084-fcdc-420a-b68d-f7667f8ca32e",
   "metadata": {},
   "outputs": [
    {
     "name": "stdout",
     "output_type": "stream",
     "text": [
      "Cloning into 'Datasets/Images_OD/Labeled_Images'...\n",
      "remote: Enumerating objects: 2097, done.\u001b[K\n",
      "remote: Total 2097 (delta 0), reused 0 (delta 0), pack-reused 2097 (from 1)\u001b[K\n",
      "Receiving objects: 100% (2097/2097), 237.15 MiB | 14.54 MiB/s, done.\n",
      "Resolving deltas: 100% (1222/1222), done.\n"
     ]
    }
   ],
   "source": [
    "if not os.path.exists(LABELING_PATH):\n",
    "    !mkdir {LABELING_PATH}\n",
    "    !git clone https://github.com/HumanSignal/labelImg {LABELING_PATH}"
   ]
  },
  {
   "cell_type": "code",
   "execution_count": 19,
   "id": "ef6b87ed-1faa-4838-b3d7-6feae166e55e",
   "metadata": {},
   "outputs": [
    {
     "name": "stdout",
     "output_type": "stream",
     "text": [
      "make: *** No rule to make target `qt5py3'.  Stop.\n"
     ]
    }
   ],
   "source": [
    "!make qt5py3"
   ]
  },
  {
   "cell_type": "code",
   "execution_count": null,
   "id": "bc98f389-1339-4ba3-8481-dd88a3be90ff",
   "metadata": {},
   "outputs": [],
   "source": [
    "#IMAGE COLLECTION IS NOW DONE"
   ]
  }
 ],
 "metadata": {
  "kernelspec": {
   "display_name": "myenv",
   "language": "python",
   "name": "python3"
  },
  "language_info": {
   "codemirror_mode": {
    "name": "ipython",
    "version": 3
   },
   "file_extension": ".py",
   "mimetype": "text/x-python",
   "name": "python",
   "nbconvert_exporter": "python",
   "pygments_lexer": "ipython3",
   "version": "3.10.16"
  }
 },
 "nbformat": 4,
 "nbformat_minor": 5
}
